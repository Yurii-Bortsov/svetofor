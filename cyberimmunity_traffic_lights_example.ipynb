{
  "cells": [
    {
      "cell_type": "markdown",
      "metadata": {
        "id": "view-in-github",
        "colab_type": "text"
      },
      "source": [
        "<a href=\"https://colab.research.google.com/github/Yurii-Bortsov/svetofor/blob/main/cyberimmunity_traffic_lights_example.ipynb\" target=\"_parent\"><img src=\"https://colab.research.google.com/assets/colab-badge.svg\" alt=\"Open In Colab\"/></a>"
      ]
    },
    {
      "cell_type": "markdown",
      "metadata": {
        "datalore": {
          "hide_input_from_viewers": false,
          "hide_output_from_viewers": false,
          "node_id": "0RJSlfIlixBX3VaSDV2gM0",
          "report_properties": {
            "y": 0
          },
          "type": "MD"
        },
        "id": "IDaPgGDZ4-pJ"
      },
      "source": [
        "# Кибериммунный подход к разработке. Учебный пример \"Светофор\"\n",
        "\n",
        "## Об авторе\n",
        "\n",
        "Этот блокнот разработан для вас Сергеем Соболевым, sergey.p.sobolev@kaspersky.com\n",
        "\n",
        "Больше информации о кибериммунном подходе можно найти на странице https://github.com/sergey-sobolev/cyberimmune-systems/wiki/%D0%9A%D0%B8%D0%B1%D0%B5%D1%80%D0%B8%D0%BC%D0%BC%D1%83%D0%BD%D0%B8%D1%82%D0%B5%D1%82\n",
        "\n",
        "Подписывайтесь на телеграм-канал @learning_cyberimmunity (https://t.me/learning_cyberimmunity)\n",
        "\n",
        "Обучающие видео на тему кибериммунного подхода вы можете найти на youtube канале https://www.youtube.com/@learning_cyberimmunity/"
      ]
    },
    {
      "cell_type": "markdown",
      "metadata": {
        "id": "pHOq0ihJ4-pO"
      },
      "source": [
        "## О примере\n",
        "\n",
        "Светофор - это, на первый взгляд, очень простая система, но она оказывает критическое влияние на безопасность дорожного движения.\n",
        "Применим идеи конструктивной безопасности к архитектуре и реализации прототипа светофора. За отправную точку возьмём [код базового примера](https://colab.research.google.com/github/sergey-sobolev/cyberimmune-systems-basic-demo-notebook01/blob/main/cyberimmunity-basics.ipynb) и немного его переработаем.\n",
        "\n",
        "Для переработки будем использовать описание архитектуры решения, которое обсуждалось на занятии."
      ]
    },
    {
      "cell_type": "markdown",
      "metadata": {
        "datalore": {
          "hide_input_from_viewers": false,
          "hide_output_from_viewers": false,
          "node_id": "qoIrYDyN2Q7aUkbphFojc4",
          "report_properties": {
            "y": 13
          },
          "type": "MD"
        },
        "id": "Dyjxxl8O4-pO"
      },
      "source": [
        "## Простая реализация выбранной политики архитектуры\n",
        "\n",
        "Будем использовать политику архитектуры, показанную на рис. 1.\n",
        "\n",
        "![Рис. 1. Политика архитектуры](https://github.com/cyberimmunity-edu/cyberimmune-systems-example-traffic-light-jupyter-notebook/blob/master/images/tl-archpol-0.02.png?raw=1)\n",
        "\n",
        "Рис. 1. Политика архитектуры светофора\n",
        "\n",
        "1. Создадим функциональные компоненты (сущности 1-4) и монитор безопасности, который будет контролировать их взаимодействие, в том числе реализовывать контроль конфигураций светофора (сущность №5 на архитектурной диаграмме)\n",
        "2. Определим политики безопасности\n",
        "3. Сымитируем запрос на изменение режима для проверки работы всех элементов\n",
        "\n",
        "- В качестве интерфейса взаимодействия используем очереди сообщений, у каждой сущности есть своя «персональная» очередь, ассоциированная с ней\n",
        "- Компоненты 1-4 отправляют сообщения только в очередь monitor сущности SecurityMonitor\n",
        "- SecurityMonitor проверяет сообщения на соответствие политикам безопасности, в случае положительного решения перенаправляет сообщение в очередь соответствующей сущности\n",
        "\n",
        "В коде назовём сущности следующим образом\n",
        "1. Связь - CitySystemConnector\n",
        "2. Система управления светофора - ControlSystem\n",
        "3. Управление светодиодами - LightsGPIO\n",
        "4. Система диагностики - SelfDiagnosticsSystem\n",
        "\n",
        "Логику контроля режимов светофора (компонент №5 на рис. 1) реализуем в виде политик безопасности в мониторе безопасности\n",
        "\n",
        "![Рис. 2. Политика архитектуры с именами классов](https://github.com/cyberimmunity-edu/cyberimmune-systems-example-traffic-light-jupyter-notebook/blob/master/images/tl-archpol-code.png?raw=1)\n",
        "\n",
        "Рис. 2. Политика архитектуры с именами классов"
      ]
    },
    {
      "cell_type": "markdown",
      "metadata": {
        "datalore": {
          "hide_input_from_viewers": false,
          "hide_output_from_viewers": false,
          "node_id": "jgbNeMOKShjE1hm5tuOBw4",
          "report_properties": {
            "y": 38
          },
          "type": "MD"
        },
        "id": "dMWeDEjQ4-pP"
      },
      "source": [
        "Очередь событий для монитора безопасности: все запросы от сущностей друг к другу должны отправляться только в неё"
      ]
    },
    {
      "cell_type": "code",
      "execution_count": 1,
      "metadata": {
        "datalore": {
          "hide_input_from_viewers": false,
          "hide_output_from_viewers": false,
          "node_id": "qFXLn0lYAaIyfzbH8A8kEE",
          "report_properties": {
            "y": 41
          },
          "type": "CODE"
        },
        "id": "V8YM6Ut24-pQ"
      },
      "outputs": [],
      "source": [
        "from multiprocessing import Queue\n",
        "monitor_events_queue = Queue()"
      ]
    },
    {
      "cell_type": "markdown",
      "metadata": {
        "datalore": {
          "hide_input_from_viewers": false,
          "hide_output_from_viewers": false,
          "node_id": "EkzehjnA2Mnrg7a0WZGW25",
          "report_properties": {
            "y": 45
          },
          "type": "MD"
        },
        "id": "382C-IIi4-pR"
      },
      "source": [
        "Зафиксируем формат сообщений"
      ]
    },
    {
      "cell_type": "code",
      "execution_count": 2,
      "metadata": {
        "datalore": {
          "hide_input_from_viewers": false,
          "hide_output_from_viewers": false,
          "node_id": "eZGbZhLgtEf9aQODDvGKff",
          "report_properties": {
            "y": 48
          },
          "type": "CODE"
        },
        "id": "w1KLEXJ24-pS"
      },
      "outputs": [],
      "source": [
        "from dataclasses import dataclass\n",
        "\n",
        "\n",
        "@dataclass\n",
        "class Event:\n",
        "    source: str       # отправитель\n",
        "    destination: str  # получатель\n",
        "    operation: str    # чего хочет (запрашиваемое действие)\n",
        "    parameters: str   # с какими параметрами"
      ]
    },
    {
      "cell_type": "markdown",
      "metadata": {
        "datalore": {
          "hide_input_from_viewers": false,
          "hide_output_from_viewers": false,
          "node_id": "hRJUXA47UL8ukf6MNHvVyx",
          "report_properties": {
            "y": 55
          },
          "type": "MD"
        },
        "id": "-bCKH6UO4-pS"
      },
      "source": [
        "### Монитор безопасности"
      ]
    },
    {
      "cell_type": "markdown",
      "metadata": {
        "datalore": {
          "hide_input_from_viewers": false,
          "hide_output_from_viewers": false,
          "node_id": "n4tONisJH18giBQyiDOBA8",
          "report_properties": {
            "y": 58
          },
          "type": "MD"
        },
        "id": "4p8ZbiHI4-pT"
      },
      "source": [
        "Ниже в методе _check_policies можно увидеть пример политики безопасности:\n",
        "\n",
        "```python\n",
        "if event.source == \"ControlSystem\" \\\n",
        "        and event.destination == \"LightsGPIO\" \\\n",
        "        and event.operation == \"set_mode\" \\\n",
        "        and self._check_mode(event.operation):\n",
        "    authorized = True\n",
        "```            \n",
        "\n",
        "в этом примере проверяется отправитель сообщения, получатель, запрашиваемая операция и даже параметры операции. Это максимально жёсткий вариант, очевидно, в зависимости от ситуации количество проверок можно уменьшить.\n",
        "\n",
        "А пока это место для экспериментов, как можно из монитора безопасности заблокировать взаимодействие между сущностями."
      ]
    },
    {
      "cell_type": "code",
      "execution_count": 3,
      "metadata": {
        "datalore": {
          "hide_input_from_viewers": false,
          "hide_output_from_viewers": false,
          "node_id": "CtnCsaSVbBzOlL3WjFpUjl",
          "report_properties": {
            "y": 67
          },
          "type": "CODE"
        },
        "id": "FM3m6p1j4-pT"
      },
      "outputs": [],
      "source": [
        "from multiprocessing import Queue, Process\n",
        "from multiprocessing.queues import Empty\n",
        "import json\n",
        "\n",
        "# формат управляющих команд для монитора\n",
        "@dataclass\n",
        "class ControlEvent:\n",
        "    operation: str\n",
        "\n",
        "# список разрешенных сочетаний сигналов светофора\n",
        "# любые сочетания, отсутствующие в этом списке, запрещены\n",
        "traffic_lights_allowed_configurations = [\n",
        "    {\"direction_1\": \"red\", \"direction_2\": \"green\", \"direction_1_arrow\" : \"off\", \"direction_2_arrow\" : \"on\"},\n",
        "    {\"direction_1\": \"green\", \"direction_2\": \"red\", \"direction_1_arrow\" : \"on\", \"direction_2_arrow\" : \"off\"},\n",
        "    {\"direction_1\": \"red\", \"direction_2\": \"red\", \"direction_1_arrow\" : \"off\", \"direction_2_arrow\" : \"off\"},\n",
        "    {\"direction_1\": \"red\", \"direction_2\": \"yellow\", \"direction_1_arrow\" : \"off\", \"direction_2_arrow\" : \"on\"},\n",
        "    {\"direction_1\": \"yellow\", \"direction_2\": \"yellow\", \"direction_1_arrow\" : \"on\", \"direction_2_arrow\" : \"on\"},\n",
        "    {\"direction_1\": \"off\", \"direction_2\": \"off\", \"direction_1_arrow\" : \"off\", \"direction_2_arrow\" : \"off\"},\n",
        "    {\"direction_1\": \"green\", \"direction_2\": \"red\", \"direction_1_arrow\" : \"on\", \"direction_2_arrow\" : \"off\"},\n",
        "    {\"direction_1\": \"green\", \"direction_2\": \"yellow\", \"direction_1_arrow\" : \"on\", \"direction_2_arrow\" : \"on\"},\n",
        "    {\"direction_1\": \"yellow_blinking\", \"direction_2\": \"yellow_blinking\", \"direction_1_arrow\" : \"off\", \"direction_2_arrow\" : \"off\"},\n",
        "\n",
        "]\n",
        "\n",
        "\n",
        "# Класс, реализующий поведение монитора безопасности\n",
        "class Monitor(Process):\n",
        "\n",
        "    def __init__(self, events_q: Queue):\n",
        "        # вызываем конструктор базового класса\n",
        "        super().__init__()\n",
        "        self._events_q = events_q  # очередь событий для монитора (входящие сообщения)\n",
        "        self._control_q = Queue()  # очередь управляющих команд (например, для остановки монитора)\n",
        "        self._entity_queues = {}   # словарь очередей известных монитору сущностей\n",
        "        self._force_quit = False   # флаг завершения работы монитора\n",
        "\n",
        "    # регистрация очереди новой сущности\n",
        "    def add_entity_queue(self, entity_id: str, queue: Queue):\n",
        "        print(f\"[монитор] регистрируем сущность {entity_id}\")\n",
        "        self._entity_queues[entity_id] = queue\n",
        "\n",
        "    def _check_mode(self, mode_str: str) -> bool:\n",
        "        mode_ok = False\n",
        "        try:\n",
        "            # извлечём структуру из строки, в случае ошибки запретим изменение режима\n",
        "            mode = json.loads(mode_str)\n",
        "            # проверим входит ли запрашиваемый режим в список разрешённых\n",
        "            print(f\"[монитор] проверяем конфигурацию {mode}\")\n",
        "            if mode in traffic_lights_allowed_configurations:\n",
        "                # такой режим найден, можно активировать\n",
        "                mode_ok = True\n",
        "        except:\n",
        "            mode_ok = False\n",
        "        return mode_ok\n",
        "\n",
        "\n",
        "\n",
        "    # проверка политик безопасности\n",
        "    def _check_policies(self, event):\n",
        "        print(f'[монитор] обрабатываем событие {event}')\n",
        "\n",
        "        # default deny: всё, что не разрешено, запрещено по умолчанию!\n",
        "        authorized = False\n",
        "\n",
        "        # проверка на входе, что это экземпляр класса Event,\n",
        "        # т.е. имеет ожидаемый формат\n",
        "        if not isinstance(event, Event):\n",
        "            return False\n",
        "\n",
        "        #\n",
        "        #  политики безопасности\n",
        "        #\n",
        "\n",
        "        # пример политики безопасности\n",
        "        if event.source == \"ControlSystem\" \\\n",
        "                and event.destination == \"LightsGPIO\" \\\n",
        "                and event.operation == \"set_mode\" \\\n",
        "                and self._check_mode(event.parameters):\n",
        "            authorized = True\n",
        "\n",
        "        if event.source == \"SelfDiagnostics\" \\\n",
        "              and event.destination == \"LightsGPIO\" \\\n",
        "              and event.operation == \"send_conditions\" :\n",
        "            authorized = True\n",
        "\n",
        "        if event.source == \"CitySystemConnector\" \\\n",
        "                and event.destination == \"ControlSystem\" \\\n",
        "                and event.operation == \"set_yellow_blinking\" :\n",
        "            authorized = True\n",
        "\n",
        "        if event.source == \"LightsGPIO\" \\\n",
        "                and event.destination == \"CitySystemConnector\" \\\n",
        "                and event.operation == \"send_conditions\" :\n",
        "            authorized = True\n",
        "\n",
        "\n",
        "\n",
        "        if authorized is False:\n",
        "            print(\"[монитор] событие не разрешено политиками безопасности\")\n",
        "        return authorized\n",
        "\n",
        "    # выполнение разрешённого запроса\n",
        "    # метод должен вызываться только после проверки политик безопасности\n",
        "    def _proceed(self, event):\n",
        "        print(f'[монитор] отправляем запрос {event}')\n",
        "        try:\n",
        "            # найдём очередь получателя события\n",
        "            dst_q: Queue = self._entity_queues[event.destination]\n",
        "            # и положим запрос в эту очередь\n",
        "            dst_q.put(event)\n",
        "        except  Exception as e:\n",
        "            # например, запрос пришёл от или для неизвестной сущности\n",
        "            print(f\"[монитор] ошибка выполнения запроса {e}\")\n",
        "\n",
        "    # основной код работы монитора безопасности\n",
        "    def run(self):\n",
        "        print('[монитор] старт')\n",
        "\n",
        "        # в цикле проверяет наличие новых событий,\n",
        "        # выход из цикла по флагу _force_quit\n",
        "        while self._force_quit is False:\n",
        "            event = None\n",
        "            try:\n",
        "                # ожидание сделано неблокирующим,\n",
        "                # чтобы можно было завершить работу монитора,\n",
        "                # не дожидаясь нового сообщения\n",
        "                event = self._events_q.get_nowait()\n",
        "                # сюда попадаем только в случае получение события,\n",
        "                # теперь нужно проверить политики безопасности\n",
        "                authorized = self._check_policies(event)\n",
        "                if authorized:\n",
        "                    # если политиками запрос авторизован - выполняем\n",
        "                    self._proceed(event)\n",
        "            except Empty:\n",
        "                # сюда попадаем, если новых сообщений ещё нет,\n",
        "                # в таком случае немного подождём\n",
        "                sleep(0.5)\n",
        "            except Exception as e:\n",
        "                # что-то пошло не так, выведем сообщение об ошибке\n",
        "                print(f\"[монитор] ошибка обработки {e}, {event}\")\n",
        "            self._check_control_q()\n",
        "        print('[монитор] завершение работы')\n",
        "\n",
        "    # запрос на остановку работы монитора безопасности для завершения работы\n",
        "    # может вызываться вне процесса монитора\n",
        "    def stop(self):\n",
        "        # поскольку монитор работает в отдельном процессе,\n",
        "        # запрос помещается в очередь, которая проверяется из процесса монитора\n",
        "        request = ControlEvent(operation='stop')\n",
        "        self._control_q.put(request)\n",
        "\n",
        "    # проверка наличия новых управляющих команд\n",
        "    def _check_control_q(self):\n",
        "        try:\n",
        "            request: ControlEvent = self._control_q.get_nowait()\n",
        "            print(f\"[монитор] проверяем запрос {request}\")\n",
        "            if isinstance(request, ControlEvent) and request.operation == 'stop':\n",
        "                # поступил запрос на остановку монитора, поднимаем \"красный флаг\"\n",
        "                self._force_quit = True\n",
        "        except Empty:\n",
        "            # никаких команд не поступило, ну и ладно\n",
        "            pass"
      ]
    },
    {
      "cell_type": "markdown",
      "metadata": {
        "datalore": {
          "hide_input_from_viewers": false,
          "hide_output_from_viewers": false,
          "node_id": "zyIhGBqKLRidFSWHBpxdOQ",
          "report_properties": {
            "y": 122
          },
          "type": "MD"
        },
        "id": "A4GAJqGk4-pU"
      },
      "source": [
        "### Сущность ControlSystem\n",
        "\n",
        "Эта сущность отправляет сообщение для другой сущности (LightsGPIO)"
      ]
    },
    {
      "cell_type": "code",
      "execution_count": 4,
      "metadata": {
        "datalore": {
          "hide_input_from_viewers": false,
          "hide_output_from_viewers": false,
          "node_id": "qV7V16FUiRUb10fXlcR7gH",
          "report_properties": {
            "y": 126
          },
          "type": "CODE"
        },
        "id": "PCafCItj4-pU"
      },
      "outputs": [],
      "source": [
        "from multiprocessing import Queue, Process\n",
        "import json\n",
        "\n",
        "\n",
        "class ControlSystem(Process):\n",
        "\n",
        "    def __init__(self, monitor_queue: Queue):\n",
        "        # вызываем конструктор базового класса\n",
        "        super().__init__()\n",
        "        # мы знаем только очередь монитора безопасности для взаимодействия с другими сущностями\n",
        "        # прямая отправка сообщений в другую сущность запрещена в концепции FLASK\n",
        "        self.monitor_queue = monitor_queue\n",
        "        # создаём собственную очередь, в которую монитор сможет положить сообщения для этой сущности\n",
        "        self._own_queue = Queue()\n",
        "        self.duration = 3\n",
        "        self.number_of_works = 6\n",
        "\n",
        "        self.traffic_lights_queue = [\n",
        "            {\"direction_1\": \"red\", \"direction_2\": \"green\", \"direction_1_arrow\" : \"off\", \"direction_2_arrow\" : \"on\"},\n",
        "            {\"direction_1\": \"green\", \"direction_2\": \"red\", \"direction_1_arrow\" : \"on\", \"direction_2_arrow\" : \"off\"},\n",
        "        ]\n",
        "\n",
        "\n",
        "    # выдаёт собственную очередь для взаимодействия\n",
        "    def entity_queue(self):\n",
        "        return self._own_queue\n",
        "\n",
        "    # основной код сущности\n",
        "\n",
        "    def run(self):\n",
        "        print(f'[{self.__class__.__name__}] старт')\n",
        "        attempts = 150\n",
        "        condition = 0\n",
        "        while attempts > 0:\n",
        "            try:\n",
        "                event: Event = self._own_queue.get_nowait()\n",
        "\n",
        "                if event.operation == \"set_yellow_blinking\":\n",
        "                    print(f\"\\n[{self.__class__.__name__}] {event.source} ПРИКАЗ {event.parameters}\")\n",
        "                    print(f\"[{self.__class__.__name__}] новый режим: {event.parameters}!\\n\")\n",
        "                    self.conditions = event.parameters\n",
        "                    sleep(30)\n",
        "                    attempts -= 1\n",
        "            except Empty:\n",
        "\n",
        "                mode = self.traffic_lights_queue[condition]\n",
        "\n",
        "                event = Event(source=self.__class__.__name__,\n",
        "                          destination='LightsGPIO',\n",
        "                          operation='set_mode',\n",
        "                          parameters=json.dumps(mode)\n",
        "                          )\n",
        "                self.monitor_queue.put(event)\n",
        "                if condition == 0:\n",
        "                    condition = 1\n",
        "                else:\n",
        "                    condition = 0\n",
        "\n",
        "                sleep(5)\n",
        "                attempts -= 1\n",
        "        print(f'[{self.__class__.__name__}] завершение работы')"
      ]
    },
    {
      "cell_type": "markdown",
      "metadata": {
        "datalore": {
          "hide_input_from_viewers": false,
          "hide_output_from_viewers": false,
          "node_id": "qKFu63q84HSs8LCLAIzUsM",
          "report_properties": {
            "y": 143
          },
          "type": "MD"
        },
        "id": "AF_avXuT4-pV"
      },
      "source": [
        "### Сущность LightsGPIO\n",
        "\n",
        "Эта сущность ждёт входящее сообщение в течение заданного периода времени, если получает - обрабатывает и завершает работу или выходит по таймауту."
      ]
    },
    {
      "cell_type": "code",
      "execution_count": 5,
      "metadata": {
        "datalore": {
          "hide_input_from_viewers": false,
          "hide_output_from_viewers": false,
          "node_id": "aHRTq6D8zq515nYq4S5Grq",
          "report_properties": {
            "y": 147
          },
          "type": "CODE"
        },
        "id": "sBrzNC_14-pV"
      },
      "outputs": [],
      "source": [
        "from multiprocessing import Queue, Process\n",
        "from time import sleep\n",
        "\n",
        "\n",
        "class LightsGPIO(Process):\n",
        "\n",
        "    def __init__(self, monitor_queue: Queue):\n",
        "        # вызываем конструктор базового класса\n",
        "        super().__init__()\n",
        "        # мы знаем только очередь монитора безопасности для взаимодействия с другими сущностями\n",
        "        # прямая отправка сообщений в другую сущность запрещена в концепции FLASK\n",
        "        self.monitor_queue = monitor_queue\n",
        "        # создаём собственную очередь, в которую монитор сможет положить сообщения для этой сущности\n",
        "        self._own_queue = Queue()\n",
        "\n",
        "        self.conditions = {\"direction_1\": \"off\", \"direction_2\": \"off\", \"direction_1_arrow\" : \"off\", \"direction_2_arrow\" : \"off\"}\n",
        "\n",
        "    def entity_queue(self):\n",
        "        return self._own_queue\n",
        "\n",
        "    # основной код сущности\n",
        "    def run(self):\n",
        "        print(f'[{self.__class__.__name__}] старт')\n",
        "        attempts = 100\n",
        "        while attempts > 0:\n",
        "            try:\n",
        "                event: Event = self._own_queue.get_nowait()\n",
        "                if event.operation == \"set_mode\":\n",
        "                    print(f\"\\n[{self.__class__.__name__}] {event.source} запрашивает изменение режима {event.parameters}\")\n",
        "                    print(f\"[{self.__class__.__name__}] новый режим: {event.parameters}!\\n\")\n",
        "                    self.conditions = event.parameters\n",
        "\n",
        "                    mode_6 = self.conditions\n",
        "                    event_6 = Event(source=self.__class__.__name__,\n",
        "                          destination='CitySystemConnector',\n",
        "                          operation='send_conditions',\n",
        "                          parameters=json.dumps(mode_6)\n",
        "                          )\n",
        "                    self.monitor_queue.put(event_6)\n",
        "\n",
        "\n",
        "                    sleep(0.2)\n",
        "                    attempts -= 1\n",
        "                if event.operation == \"send_conditions\":\n",
        "                    print(f\"\\n[{self.__class__.__name__}] {event.source} запрашивает состояние режима {self.conditions}\")\n",
        "                    print(f\"[{self.__class__.__name__}] отправленные сведения: {self.conditions}!\\n\")\n",
        "                    sleep(0.2)\n",
        "                    attempts -= 1\n",
        "            except Empty:\n",
        "                sleep(0.2)\n",
        "                attempts -= 1\n",
        "        print(f'[{self.__class__.__name__}] завершение работы\\n')"
      ]
    },
    {
      "cell_type": "markdown",
      "source": [
        "###Сущность SelfDiagnostics\n",
        "сущность само-диагностики"
      ],
      "metadata": {
        "id": "BFTDm_yRRA3-"
      }
    },
    {
      "cell_type": "code",
      "source": [
        "from multiprocessing import Queue, Process\n",
        "import json\n",
        "\n",
        "\n",
        "class SelfDiagnostics(Process):\n",
        "\n",
        "    def __init__(self, monitor_queue: Queue):\n",
        "        # вызываем конструктор базового класса\n",
        "        super().__init__()\n",
        "        # мы знаем только очередь монитора безопасности для взаимодействия с другими сущностями\n",
        "        # прямая отправка сообщений в другую сущность запрещена в концепции FLASK\n",
        "        self.monitor_queue = monitor_queue\n",
        "        # создаём собственную очередь, в которую монитор сможет положить сообщения для этой сущности\n",
        "        self._own_queue = Queue()\n",
        "        self.time_to_check = 8\n",
        "\n",
        "    def entity_queue(self):\n",
        "        return self._own_queue\n",
        "\n",
        "    # основной код сущности\n",
        "    def run(self):\n",
        "      print(f'[{self.__class__.__name__}] старт')\n",
        "      sleep(self.time_to_check)\n",
        "\n",
        "      mode_4 = {}\n",
        "      event_4 = Event(source=self.__class__.__name__,\n",
        "            destination='LightsGPIO',\n",
        "            operation='send_conditions',\n",
        "            parameters=json.dumps(mode_4)\n",
        "            )\n",
        "\n",
        "\n",
        "      self.monitor_queue.put(event_4)\n",
        "      sleep(30)\n",
        "\n",
        "\n",
        "      print(f'[{self.__class__.__name__}] завершение работы')"
      ],
      "metadata": {
        "id": "OU4QLeivROiP"
      },
      "execution_count": 6,
      "outputs": []
    },
    {
      "cell_type": "markdown",
      "source": [
        "###Сущность CitySystemConnector\n",
        "сущность CitySystemConnector"
      ],
      "metadata": {
        "id": "4aSywY-sZofS"
      }
    },
    {
      "cell_type": "code",
      "source": [
        "from multiprocessing import Queue, Process\n",
        "import json\n",
        "\n",
        "\n",
        "class CitySystemConnector(Process):\n",
        "\n",
        "    def __init__(self, monitor_queue: Queue):\n",
        "        # вызываем конструктор базового класса\n",
        "        super().__init__()\n",
        "        # мы знаем только очередь монитора безопасности для взаимодействия с другими сущностями\n",
        "        # прямая отправка сообщений в другую сущность запрещена в концепции FLASK\n",
        "        self.monitor_queue = monitor_queue\n",
        "        # создаём собственную очередь, в которую монитор сможет положить сообщения для этой сущности\n",
        "        self._own_queue = Queue()\n",
        "        self.time_to_send = 15\n",
        "\n",
        "    def entity_queue(self):\n",
        "        return self._own_queue\n",
        "\n",
        "    # основной код сущности\n",
        "    def run(self):\n",
        "      print(f'[{self.__class__.__name__}] старт')\n",
        "      attempts = 100\n",
        "      while attempts > 0:\n",
        "          try:\n",
        "              event: Event = self._own_queue.get_nowait()\n",
        "              if event.operation == \"send_conditions\":\n",
        "                  print(f\"\\n[{self.__class__.__name__}] {event.source} имеет состояние {self.conditions}\\n\")\n",
        "                  sleep(0.2)\n",
        "                  attempts -= 1\n",
        "          except Empty:\n",
        "              pass\n",
        "              if attempts == 50:\n",
        "                  mode_4 = {\"direction_1\": \"yellow_blinking\", \"direction_2\": \"yellow_blinking\", \"direction_1_arrow\" : \"off\", \"direction_2_arrow\" : \"off\"}\n",
        "                  event_4 = Event(source=self.__class__.__name__,\n",
        "                        destination='ControlSystem',\n",
        "                        operation='set_yellow_blinking',\n",
        "                        parameters=json.dumps(mode_4)\n",
        "                        )\n",
        "\n",
        "                  self.monitor_queue.put(event_4)\n",
        "              sleep(0.2)\n",
        "              attempts -= 1\n",
        "\n",
        "      sleep(30)\n",
        "      print(f'[{self.__class__.__name__}] завершение работы')\n"
      ],
      "metadata": {
        "id": "iAchz0V_ZoOf"
      },
      "execution_count": 7,
      "outputs": []
    },
    {
      "cell_type": "markdown",
      "metadata": {
        "datalore": {
          "hide_input_from_viewers": false,
          "hide_output_from_viewers": false,
          "node_id": "bxjEVINz9fOYcALLwJyT5x",
          "report_properties": {
            "y": 165
          },
          "type": "MD"
        },
        "id": "rFeDNJZS4-pW"
      },
      "source": [
        "### Инициализируем монитор и сущности"
      ]
    },
    {
      "cell_type": "code",
      "execution_count": 8,
      "metadata": {
        "datalore": {
          "hide_input_from_viewers": false,
          "hide_output_from_viewers": false,
          "node_id": "sQGtSVoeImd8MaD1uVHSHp",
          "report_properties": {
            "y": 168
          },
          "type": "CODE"
        },
        "id": "8mffJqQV4-pW"
      },
      "outputs": [],
      "source": [
        "monitor = Monitor(monitor_events_queue)\n",
        "control_system = ControlSystem(monitor_events_queue)\n",
        "lights_gpio = LightsGPIO(monitor_events_queue)\n",
        "self_diagnostics = SelfDiagnostics(monitor_events_queue)\n",
        "city_system_connector = CitySystemConnector(monitor_events_queue)"
      ]
    },
    {
      "cell_type": "markdown",
      "metadata": {
        "datalore": {
          "hide_input_from_viewers": false,
          "hide_output_from_viewers": false,
          "node_id": "gI4eUA7J5oYR0Iuos0a2so",
          "report_properties": {
            "y": 172
          },
          "type": "MD"
        },
        "id": "mCZni9a14-pW"
      },
      "source": [
        "регистрируем очереди сущностей в мониторе"
      ]
    },
    {
      "cell_type": "code",
      "execution_count": 9,
      "metadata": {
        "datalore": {
          "hide_input_from_viewers": false,
          "hide_output_from_viewers": false,
          "node_id": "jj3dRPwN0zJJAuwuYDScYO",
          "report_properties": {
            "y": 175
          },
          "type": "CODE"
        },
        "id": "s1mZfb2i4-pW",
        "outputId": "3264ca37-d7fd-4924-ab12-ff0e10d89d62",
        "colab": {
          "base_uri": "https://localhost:8080/"
        }
      },
      "outputs": [
        {
          "output_type": "stream",
          "name": "stdout",
          "text": [
            "[монитор] регистрируем сущность ControlSystem\n",
            "[монитор] регистрируем сущность LightsGPIO\n",
            "[монитор] регистрируем сущность SelfDiagnostics\n",
            "[монитор] регистрируем сущность CitySystemConnector\n"
          ]
        }
      ],
      "source": [
        "monitor.add_entity_queue(control_system.__class__.__name__, control_system.entity_queue())\n",
        "monitor.add_entity_queue(lights_gpio.__class__.__name__, lights_gpio.entity_queue())\n",
        "monitor.add_entity_queue(self_diagnostics.__class__.__name__,self_diagnostics.entity_queue())\n",
        "monitor.add_entity_queue(city_system_connector.__class__.__name__,city_system_connector.entity_queue())"
      ]
    },
    {
      "cell_type": "markdown",
      "metadata": {
        "datalore": {
          "hide_input_from_viewers": false,
          "hide_output_from_viewers": false,
          "node_id": "Fs6PfdIKOB1pj2iK8wRUPV",
          "report_properties": {
            "y": 181
          },
          "type": "MD"
        },
        "id": "fJg265OU4-pX"
      },
      "source": [
        "### Запускаем всё"
      ]
    },
    {
      "cell_type": "markdown",
      "metadata": {
        "datalore": {
          "hide_input_from_viewers": false,
          "hide_output_from_viewers": false,
          "node_id": "PzAg6s2xfAZYt0ZbKdEsIR",
          "report_properties": {
            "y": 184
          },
          "type": "MD"
        },
        "id": "rlsU5Yc_4-pX"
      },
      "source": [
        "Ожидаемая последовательность событий\n",
        "\n",
        "![Диаграмма последовательности вызовов](https://www.plantuml.com/plantuml/png/dPBVIiCm6CNlynIvdtk1NSZ02n4KXJr1w886-cUqcR0xgoBpIdoJLgqhtRg-mfStygJPM3js9OLyoPTpVia97ITQn7eU-6o6gZmr4w7c5r6euyYVB18j0ouIxhb6JpIHtZnMUd4JXKf7iPK5RjgJNQlx1vrStbtTMeNVhXZR0VdmV6yQ34QSQjhI5sNcWrE5QMrUgQHlysAUq7oZqcxyq1hbW6KxG8S5KWEBPHMe5MLeOBa6uHd4YWbVSs1JQg1OKktEF3ATSTI2Vk7Os6b6AupGerctn3uM5WWfn_OAxGRGr4OogTtktjCzmt3utyZ2q-fHQBb_JrSEv177oHigRB1E2ChOL1vxfPz8ZWjdBhv9ELn5Bw_vfFf4L2fFlZsEtkBBpNjxWH8mkyHWbbZbC1TCXbCsne1Vxmy0)"
      ]
    },
    {
      "cell_type": "code",
      "source": [
        "monitor.start()\n",
        "control_system.start()\n",
        "lights_gpio.start()\n",
        "self_diagnostics.start()\n",
        "city_system_connector.start()\n",
        "sleep(30)"
      ],
      "metadata": {
        "colab": {
          "base_uri": "https://localhost:8080/"
        },
        "id": "0s2HyD-Dv3Gy",
        "outputId": "64586654-18b3-40af-f8a5-4e813ae201c5"
      },
      "execution_count": 10,
      "outputs": [
        {
          "output_type": "stream",
          "name": "stdout",
          "text": [
            "[ControlSystem] старт[монитор] старт\n",
            "\n",
            "[LightsGPIO] старт\n",
            "[SelfDiagnostics] старт[CitySystemConnector] старт\n",
            "\n",
            "[монитор] обрабатываем событие Event(source='ControlSystem', destination='LightsGPIO', operation='set_mode', parameters='{\"direction_1\": \"red\", \"direction_2\": \"green\", \"direction_1_arrow\": \"off\", \"direction_2_arrow\": \"on\"}')\n",
            "[монитор] проверяем конфигурацию {'direction_1': 'red', 'direction_2': 'green', 'direction_1_arrow': 'off', 'direction_2_arrow': 'on'}\n",
            "[монитор] отправляем запрос Event(source='ControlSystem', destination='LightsGPIO', operation='set_mode', parameters='{\"direction_1\": \"red\", \"direction_2\": \"green\", \"direction_1_arrow\": \"off\", \"direction_2_arrow\": \"on\"}')\n",
            "\n",
            "[LightsGPIO] ControlSystem запрашивает изменение режима {\"direction_1\": \"red\", \"direction_2\": \"green\", \"direction_1_arrow\": \"off\", \"direction_2_arrow\": \"on\"}\n",
            "[LightsGPIO] новый режим: {\"direction_1\": \"red\", \"direction_2\": \"green\", \"direction_1_arrow\": \"off\", \"direction_2_arrow\": \"on\"}!\n",
            "\n",
            "[монитор] обрабатываем событие Event(source='LightsGPIO', destination='CitySystemConnector', operation='send_conditions', parameters='\"{\\\\\"direction_1\\\\\": \\\\\"red\\\\\", \\\\\"direction_2\\\\\": \\\\\"green\\\\\", \\\\\"direction_1_arrow\\\\\": \\\\\"off\\\\\", \\\\\"direction_2_arrow\\\\\": \\\\\"on\\\\\"}\"')\n",
            "[монитор] отправляем запрос Event(source='LightsGPIO', destination='CitySystemConnector', operation='send_conditions', parameters='\"{\\\\\"direction_1\\\\\": \\\\\"red\\\\\", \\\\\"direction_2\\\\\": \\\\\"green\\\\\", \\\\\"direction_1_arrow\\\\\": \\\\\"off\\\\\", \\\\\"direction_2_arrow\\\\\": \\\\\"on\\\\\"}\"')\n"
          ]
        },
        {
          "output_type": "stream",
          "name": "stderr",
          "text": [
            "Process CitySystemConnector-5:\n",
            "Traceback (most recent call last):\n",
            "  File \"/usr/lib/python3.11/multiprocessing/process.py\", line 314, in _bootstrap\n",
            "    self.run()\n",
            "  File \"<ipython-input-7-ec8412e65fd2>\", line 28, in run\n",
            "    print(f\"\\n[{self.__class__.__name__}] {event.source} имеет состояние {self.conditions}\\n\")\n",
            "                                                                          ^^^^^^^^^^^^^^^\n",
            "AttributeError: 'CitySystemConnector' object has no attribute 'conditions'\n"
          ]
        },
        {
          "output_type": "stream",
          "name": "stdout",
          "text": [
            "[монитор] обрабатываем событие Event(source='ControlSystem', destination='LightsGPIO', operation='set_mode', parameters='{\"direction_1\": \"green\", \"direction_2\": \"red\", \"direction_1_arrow\": \"on\", \"direction_2_arrow\": \"off\"}')\n",
            "[монитор] проверяем конфигурацию {'direction_1': 'green', 'direction_2': 'red', 'direction_1_arrow': 'on', 'direction_2_arrow': 'off'}\n",
            "[монитор] отправляем запрос Event(source='ControlSystem', destination='LightsGPIO', operation='set_mode', parameters='{\"direction_1\": \"green\", \"direction_2\": \"red\", \"direction_1_arrow\": \"on\", \"direction_2_arrow\": \"off\"}')\n",
            "\n",
            "[LightsGPIO] ControlSystem запрашивает изменение режима {\"direction_1\": \"green\", \"direction_2\": \"red\", \"direction_1_arrow\": \"on\", \"direction_2_arrow\": \"off\"}\n",
            "[LightsGPIO] новый режим: {\"direction_1\": \"green\", \"direction_2\": \"red\", \"direction_1_arrow\": \"on\", \"direction_2_arrow\": \"off\"}!\n",
            "\n",
            "[монитор] обрабатываем событие Event(source='LightsGPIO', destination='CitySystemConnector', operation='send_conditions', parameters='\"{\\\\\"direction_1\\\\\": \\\\\"green\\\\\", \\\\\"direction_2\\\\\": \\\\\"red\\\\\", \\\\\"direction_1_arrow\\\\\": \\\\\"on\\\\\", \\\\\"direction_2_arrow\\\\\": \\\\\"off\\\\\"}\"')\n",
            "[монитор] отправляем запрос Event(source='LightsGPIO', destination='CitySystemConnector', operation='send_conditions', parameters='\"{\\\\\"direction_1\\\\\": \\\\\"green\\\\\", \\\\\"direction_2\\\\\": \\\\\"red\\\\\", \\\\\"direction_1_arrow\\\\\": \\\\\"on\\\\\", \\\\\"direction_2_arrow\\\\\": \\\\\"off\\\\\"}\"')\n",
            "[монитор] обрабатываем событие Event(source='SelfDiagnostics', destination='LightsGPIO', operation='send_conditions', parameters='{}')\n",
            "[монитор] отправляем запрос Event(source='SelfDiagnostics', destination='LightsGPIO', operation='send_conditions', parameters='{}')\n",
            "\n",
            "[LightsGPIO] SelfDiagnostics запрашивает состояние режима {\"direction_1\": \"green\", \"direction_2\": \"red\", \"direction_1_arrow\": \"on\", \"direction_2_arrow\": \"off\"}\n",
            "[LightsGPIO] отправленные сведения: {\"direction_1\": \"green\", \"direction_2\": \"red\", \"direction_1_arrow\": \"on\", \"direction_2_arrow\": \"off\"}!\n",
            "\n",
            "[монитор] обрабатываем событие Event(source='ControlSystem', destination='LightsGPIO', operation='set_mode', parameters='{\"direction_1\": \"red\", \"direction_2\": \"green\", \"direction_1_arrow\": \"off\", \"direction_2_arrow\": \"on\"}')\n",
            "[монитор] проверяем конфигурацию {'direction_1': 'red', 'direction_2': 'green', 'direction_1_arrow': 'off', 'direction_2_arrow': 'on'}\n",
            "[монитор] отправляем запрос Event(source='ControlSystem', destination='LightsGPIO', operation='set_mode', parameters='{\"direction_1\": \"red\", \"direction_2\": \"green\", \"direction_1_arrow\": \"off\", \"direction_2_arrow\": \"on\"}')\n",
            "\n",
            "[LightsGPIO] ControlSystem запрашивает изменение режима {\"direction_1\": \"red\", \"direction_2\": \"green\", \"direction_1_arrow\": \"off\", \"direction_2_arrow\": \"on\"}\n",
            "[LightsGPIO] новый режим: {\"direction_1\": \"red\", \"direction_2\": \"green\", \"direction_1_arrow\": \"off\", \"direction_2_arrow\": \"on\"}!\n",
            "\n",
            "[монитор] обрабатываем событие Event(source='LightsGPIO', destination='CitySystemConnector', operation='send_conditions', parameters='\"{\\\\\"direction_1\\\\\": \\\\\"red\\\\\", \\\\\"direction_2\\\\\": \\\\\"green\\\\\", \\\\\"direction_1_arrow\\\\\": \\\\\"off\\\\\", \\\\\"direction_2_arrow\\\\\": \\\\\"on\\\\\"}\"')\n",
            "[монитор] отправляем запрос Event(source='LightsGPIO', destination='CitySystemConnector', operation='send_conditions', parameters='\"{\\\\\"direction_1\\\\\": \\\\\"red\\\\\", \\\\\"direction_2\\\\\": \\\\\"green\\\\\", \\\\\"direction_1_arrow\\\\\": \\\\\"off\\\\\", \\\\\"direction_2_arrow\\\\\": \\\\\"on\\\\\"}\"')\n",
            "[монитор] обрабатываем событие Event(source='ControlSystem', destination='LightsGPIO', operation='set_mode', parameters='{\"direction_1\": \"green\", \"direction_2\": \"red\", \"direction_1_arrow\": \"on\", \"direction_2_arrow\": \"off\"}')\n",
            "[монитор] проверяем конфигурацию {'direction_1': 'green', 'direction_2': 'red', 'direction_1_arrow': 'on', 'direction_2_arrow': 'off'}\n",
            "[монитор] отправляем запрос Event(source='ControlSystem', destination='LightsGPIO', operation='set_mode', parameters='{\"direction_1\": \"green\", \"direction_2\": \"red\", \"direction_1_arrow\": \"on\", \"direction_2_arrow\": \"off\"}')\n",
            "\n",
            "[LightsGPIO] ControlSystem запрашивает изменение режима {\"direction_1\": \"green\", \"direction_2\": \"red\", \"direction_1_arrow\": \"on\", \"direction_2_arrow\": \"off\"}\n",
            "[LightsGPIO] новый режим: {\"direction_1\": \"green\", \"direction_2\": \"red\", \"direction_1_arrow\": \"on\", \"direction_2_arrow\": \"off\"}!\n",
            "\n",
            "[монитор] обрабатываем событие Event(source='LightsGPIO', destination='CitySystemConnector', operation='send_conditions', parameters='\"{\\\\\"direction_1\\\\\": \\\\\"green\\\\\", \\\\\"direction_2\\\\\": \\\\\"red\\\\\", \\\\\"direction_1_arrow\\\\\": \\\\\"on\\\\\", \\\\\"direction_2_arrow\\\\\": \\\\\"off\\\\\"}\"')\n",
            "[монитор] отправляем запрос Event(source='LightsGPIO', destination='CitySystemConnector', operation='send_conditions', parameters='\"{\\\\\"direction_1\\\\\": \\\\\"green\\\\\", \\\\\"direction_2\\\\\": \\\\\"red\\\\\", \\\\\"direction_1_arrow\\\\\": \\\\\"on\\\\\", \\\\\"direction_2_arrow\\\\\": \\\\\"off\\\\\"}\"')\n",
            "[LightsGPIO] завершение работы\n",
            "\n",
            "[монитор] обрабатываем событие Event(source='ControlSystem', destination='LightsGPIO', operation='set_mode', parameters='{\"direction_1\": \"red\", \"direction_2\": \"green\", \"direction_1_arrow\": \"off\", \"direction_2_arrow\": \"on\"}')\n",
            "[монитор] проверяем конфигурацию {'direction_1': 'red', 'direction_2': 'green', 'direction_1_arrow': 'off', 'direction_2_arrow': 'on'}\n",
            "[монитор] отправляем запрос Event(source='ControlSystem', destination='LightsGPIO', operation='set_mode', parameters='{\"direction_1\": \"red\", \"direction_2\": \"green\", \"direction_1_arrow\": \"off\", \"direction_2_arrow\": \"on\"}')\n",
            "[монитор] обрабатываем событие Event(source='ControlSystem', destination='LightsGPIO', operation='set_mode', parameters='{\"direction_1\": \"green\", \"direction_2\": \"red\", \"direction_1_arrow\": \"on\", \"direction_2_arrow\": \"off\"}')\n",
            "[монитор] проверяем конфигурацию {'direction_1': 'green', 'direction_2': 'red', 'direction_1_arrow': 'on', 'direction_2_arrow': 'off'}\n",
            "[монитор] отправляем запрос Event(source='ControlSystem', destination='LightsGPIO', operation='set_mode', parameters='{\"direction_1\": \"green\", \"direction_2\": \"red\", \"direction_1_arrow\": \"on\", \"direction_2_arrow\": \"off\"}')\n"
          ]
        }
      ]
    },
    {
      "cell_type": "markdown",
      "metadata": {
        "datalore": {
          "hide_input_from_viewers": false,
          "hide_output_from_viewers": false,
          "node_id": "yjTSPXH69VsYFlzYmCG8Uz",
          "report_properties": {
            "y": 206
          },
          "type": "MD"
        },
        "id": "BLeBb1qf4-pY"
      },
      "source": [
        "### Теперь останавливаем"
      ]
    },
    {
      "cell_type": "code",
      "execution_count": 11,
      "metadata": {
        "datalore": {
          "hide_input_from_viewers": false,
          "hide_output_from_viewers": false,
          "node_id": "IO5BC9EYbABeIVgITd22Al",
          "report_properties": {
            "y": 209
          },
          "type": "CODE"
        },
        "id": "E7Ixg4g74-pY",
        "colab": {
          "base_uri": "https://localhost:8080/",
          "height": 1000
        },
        "outputId": "7eed8d0f-2a84-4392-df72-cb7a4b0369e5"
      },
      "outputs": [
        {
          "output_type": "stream",
          "name": "stderr",
          "text": [
            "ERROR:root:Internal Python error in the inspect module.\n",
            "Below is the traceback from this internal error.\n",
            "\n"
          ]
        },
        {
          "output_type": "stream",
          "name": "stdout",
          "text": [
            "Traceback (most recent call last):\n",
            "  File \"/usr/local/lib/python3.11/dist-packages/IPython/core/interactiveshell.py\", line 3553, in run_code\n",
            "    exec(code_obj, self.user_global_ns, self.user_ns)\n",
            "  File \"<ipython-input-11-73a58d5c3abb>\", line 2, in <cell line: 0>\n",
            "    control_system.join()\n",
            "  File \"/usr/lib/python3.11/multiprocessing/process.py\", line 149, in join\n",
            "    res = self._popen.wait(timeout)\n",
            "          ^^^^^^^^^^^^^^^^^^^^^^^^^\n",
            "  File \"/usr/lib/python3.11/multiprocessing/popen_fork.py\", line 43, in wait\n",
            "    return self.poll(os.WNOHANG if timeout == 0.0 else 0)\n",
            "           ^^^^^^^^^^^^^^^^^^^^^^^^^^^^^^^^^^^^^^^^^^^^^^\n",
            "  File \"/usr/lib/python3.11/multiprocessing/popen_fork.py\", line 27, in poll\n",
            "    pid, sts = os.waitpid(self.pid, flag)\n",
            "               ^^^^^^^^^^^^^^^^^^^^^^^^^^\n",
            "KeyboardInterrupt\n",
            "\n",
            "During handling of the above exception, another exception occurred:\n",
            "\n",
            "Traceback (most recent call last):\n",
            "  File \"/usr/local/lib/python3.11/dist-packages/IPython/core/interactiveshell.py\", line 2099, in showtraceback\n",
            "    stb = value._render_traceback_()\n",
            "          ^^^^^^^^^^^^^^^^^^^^^^^^\n",
            "AttributeError: 'KeyboardInterrupt' object has no attribute '_render_traceback_'\n",
            "\n",
            "During handling of the above exception, another exception occurred:\n",
            "\n",
            "Traceback (most recent call last):\n",
            "  File \"/usr/local/lib/python3.11/dist-packages/IPython/core/ultratb.py\", line 1101, in get_records\n",
            "    return _fixed_getinnerframes(etb, number_of_lines_of_context, tb_offset)\n",
            "           ^^^^^^^^^^^^^^^^^^^^^^^^^^^^^^^^^^^^^^^^^^^^^^^^^^^^^^^^^^^^^^^^^\n",
            "  File \"/usr/local/lib/python3.11/dist-packages/IPython/core/ultratb.py\", line 248, in wrapped\n",
            "    return f(*args, **kwargs)\n",
            "           ^^^^^^^^^^^^^^^^^^\n",
            "  File \"/usr/local/lib/python3.11/dist-packages/IPython/core/ultratb.py\", line 281, in _fixed_getinnerframes\n",
            "    records = fix_frame_records_filenames(inspect.getinnerframes(etb, context))\n",
            "                                          ^^^^^^^^^^^^^^^^^^^^^^^^^^^^^^^^^^^^\n",
            "  File \"/usr/lib/python3.11/inspect.py\", line 1739, in getinnerframes\n",
            "    traceback_info = getframeinfo(tb, context)\n",
            "                     ^^^^^^^^^^^^^^^^^^^^^^^^^\n",
            "  File \"/usr/lib/python3.11/inspect.py\", line 1684, in getframeinfo\n",
            "    filename = getsourcefile(frame) or getfile(frame)\n",
            "               ^^^^^^^^^^^^^^^^^^^^\n",
            "  File \"/usr/lib/python3.11/inspect.py\", line 948, in getsourcefile\n",
            "    module = getmodule(object, filename)\n",
            "             ^^^^^^^^^^^^^^^^^^^^^^^^^^^\n",
            "  File \"/usr/lib/python3.11/inspect.py\", line 997, in getmodule\n",
            "    os.path.realpath(f)] = module.__name__\n",
            "    ^^^^^^^^^^^^^^^^^^^\n",
            "  File \"<frozen posixpath>\", line 416, in realpath\n",
            "  File \"<frozen posixpath>\", line 451, in _joinrealpath\n",
            "KeyboardInterrupt\n"
          ]
        },
        {
          "output_type": "error",
          "ename": "TypeError",
          "evalue": "object of type 'NoneType' has no len()",
          "traceback": [
            "\u001b[0;31m---------------------------------------------------------------------------\u001b[0m",
            "\u001b[0;31mKeyboardInterrupt\u001b[0m                         Traceback (most recent call last)",
            "    \u001b[0;31m[... skipping hidden 1 frame]\u001b[0m\n",
            "\u001b[0;32m<ipython-input-11-73a58d5c3abb>\u001b[0m in \u001b[0;36m<cell line: 0>\u001b[0;34m()\u001b[0m\n\u001b[1;32m      1\u001b[0m \u001b[0mmonitor\u001b[0m\u001b[0;34m.\u001b[0m\u001b[0mstop\u001b[0m\u001b[0;34m(\u001b[0m\u001b[0;34m)\u001b[0m\u001b[0;34m\u001b[0m\u001b[0;34m\u001b[0m\u001b[0m\n\u001b[0;32m----> 2\u001b[0;31m \u001b[0mcontrol_system\u001b[0m\u001b[0;34m.\u001b[0m\u001b[0mjoin\u001b[0m\u001b[0;34m(\u001b[0m\u001b[0;34m)\u001b[0m\u001b[0;34m\u001b[0m\u001b[0;34m\u001b[0m\u001b[0m\n\u001b[0m\u001b[1;32m      3\u001b[0m \u001b[0mlights_gpio\u001b[0m\u001b[0;34m.\u001b[0m\u001b[0mjoin\u001b[0m\u001b[0;34m(\u001b[0m\u001b[0;34m)\u001b[0m\u001b[0;34m\u001b[0m\u001b[0;34m\u001b[0m\u001b[0m\n",
            "\u001b[0;32m/usr/lib/python3.11/multiprocessing/process.py\u001b[0m in \u001b[0;36mjoin\u001b[0;34m(self, timeout)\u001b[0m\n\u001b[1;32m    148\u001b[0m         \u001b[0;32massert\u001b[0m \u001b[0mself\u001b[0m\u001b[0;34m.\u001b[0m\u001b[0m_popen\u001b[0m \u001b[0;32mis\u001b[0m \u001b[0;32mnot\u001b[0m \u001b[0;32mNone\u001b[0m\u001b[0;34m,\u001b[0m \u001b[0;34m'can only join a started process'\u001b[0m\u001b[0;34m\u001b[0m\u001b[0;34m\u001b[0m\u001b[0m\n\u001b[0;32m--> 149\u001b[0;31m         \u001b[0mres\u001b[0m \u001b[0;34m=\u001b[0m \u001b[0mself\u001b[0m\u001b[0;34m.\u001b[0m\u001b[0m_popen\u001b[0m\u001b[0;34m.\u001b[0m\u001b[0mwait\u001b[0m\u001b[0;34m(\u001b[0m\u001b[0mtimeout\u001b[0m\u001b[0;34m)\u001b[0m\u001b[0;34m\u001b[0m\u001b[0;34m\u001b[0m\u001b[0m\n\u001b[0m\u001b[1;32m    150\u001b[0m         \u001b[0;32mif\u001b[0m \u001b[0mres\u001b[0m \u001b[0;32mis\u001b[0m \u001b[0;32mnot\u001b[0m \u001b[0;32mNone\u001b[0m\u001b[0;34m:\u001b[0m\u001b[0;34m\u001b[0m\u001b[0;34m\u001b[0m\u001b[0m\n",
            "\u001b[0;32m/usr/lib/python3.11/multiprocessing/popen_fork.py\u001b[0m in \u001b[0;36mwait\u001b[0;34m(self, timeout)\u001b[0m\n\u001b[1;32m     42\u001b[0m             \u001b[0;31m# This shouldn't block if wait() returned successfully.\u001b[0m\u001b[0;34m\u001b[0m\u001b[0;34m\u001b[0m\u001b[0m\n\u001b[0;32m---> 43\u001b[0;31m             \u001b[0;32mreturn\u001b[0m \u001b[0mself\u001b[0m\u001b[0;34m.\u001b[0m\u001b[0mpoll\u001b[0m\u001b[0;34m(\u001b[0m\u001b[0mos\u001b[0m\u001b[0;34m.\u001b[0m\u001b[0mWNOHANG\u001b[0m \u001b[0;32mif\u001b[0m \u001b[0mtimeout\u001b[0m \u001b[0;34m==\u001b[0m \u001b[0;36m0.0\u001b[0m \u001b[0;32melse\u001b[0m \u001b[0;36m0\u001b[0m\u001b[0;34m)\u001b[0m\u001b[0;34m\u001b[0m\u001b[0;34m\u001b[0m\u001b[0m\n\u001b[0m\u001b[1;32m     44\u001b[0m         \u001b[0;32mreturn\u001b[0m \u001b[0mself\u001b[0m\u001b[0;34m.\u001b[0m\u001b[0mreturncode\u001b[0m\u001b[0;34m\u001b[0m\u001b[0;34m\u001b[0m\u001b[0m\n",
            "\u001b[0;32m/usr/lib/python3.11/multiprocessing/popen_fork.py\u001b[0m in \u001b[0;36mpoll\u001b[0;34m(self, flag)\u001b[0m\n\u001b[1;32m     26\u001b[0m             \u001b[0;32mtry\u001b[0m\u001b[0;34m:\u001b[0m\u001b[0;34m\u001b[0m\u001b[0;34m\u001b[0m\u001b[0m\n\u001b[0;32m---> 27\u001b[0;31m                 \u001b[0mpid\u001b[0m\u001b[0;34m,\u001b[0m \u001b[0msts\u001b[0m \u001b[0;34m=\u001b[0m \u001b[0mos\u001b[0m\u001b[0;34m.\u001b[0m\u001b[0mwaitpid\u001b[0m\u001b[0;34m(\u001b[0m\u001b[0mself\u001b[0m\u001b[0;34m.\u001b[0m\u001b[0mpid\u001b[0m\u001b[0;34m,\u001b[0m \u001b[0mflag\u001b[0m\u001b[0;34m)\u001b[0m\u001b[0;34m\u001b[0m\u001b[0;34m\u001b[0m\u001b[0m\n\u001b[0m\u001b[1;32m     28\u001b[0m             \u001b[0;32mexcept\u001b[0m \u001b[0mOSError\u001b[0m\u001b[0;34m:\u001b[0m\u001b[0;34m\u001b[0m\u001b[0;34m\u001b[0m\u001b[0m\n",
            "\u001b[0;31mKeyboardInterrupt\u001b[0m: ",
            "\nDuring handling of the above exception, another exception occurred:\n",
            "\u001b[0;31mAttributeError\u001b[0m                            Traceback (most recent call last)",
            "\u001b[0;32m/usr/local/lib/python3.11/dist-packages/IPython/core/interactiveshell.py\u001b[0m in \u001b[0;36mshowtraceback\u001b[0;34m(self, exc_tuple, filename, tb_offset, exception_only, running_compiled_code)\u001b[0m\n\u001b[1;32m   2098\u001b[0m                         \u001b[0;31m# in the engines. This should return a list of strings.\u001b[0m\u001b[0;34m\u001b[0m\u001b[0;34m\u001b[0m\u001b[0m\n\u001b[0;32m-> 2099\u001b[0;31m                         \u001b[0mstb\u001b[0m \u001b[0;34m=\u001b[0m \u001b[0mvalue\u001b[0m\u001b[0;34m.\u001b[0m\u001b[0m_render_traceback_\u001b[0m\u001b[0;34m(\u001b[0m\u001b[0;34m)\u001b[0m\u001b[0;34m\u001b[0m\u001b[0;34m\u001b[0m\u001b[0m\n\u001b[0m\u001b[1;32m   2100\u001b[0m                     \u001b[0;32mexcept\u001b[0m \u001b[0mException\u001b[0m\u001b[0;34m:\u001b[0m\u001b[0;34m\u001b[0m\u001b[0;34m\u001b[0m\u001b[0m\n",
            "\u001b[0;31mAttributeError\u001b[0m: 'KeyboardInterrupt' object has no attribute '_render_traceback_'",
            "\nDuring handling of the above exception, another exception occurred:\n",
            "\u001b[0;31mTypeError\u001b[0m                                 Traceback (most recent call last)",
            "    \u001b[0;31m[... skipping hidden 1 frame]\u001b[0m\n",
            "\u001b[0;32m/usr/local/lib/python3.11/dist-packages/IPython/core/interactiveshell.py\u001b[0m in \u001b[0;36mshowtraceback\u001b[0;34m(self, exc_tuple, filename, tb_offset, exception_only, running_compiled_code)\u001b[0m\n\u001b[1;32m   2099\u001b[0m                         \u001b[0mstb\u001b[0m \u001b[0;34m=\u001b[0m \u001b[0mvalue\u001b[0m\u001b[0;34m.\u001b[0m\u001b[0m_render_traceback_\u001b[0m\u001b[0;34m(\u001b[0m\u001b[0;34m)\u001b[0m\u001b[0;34m\u001b[0m\u001b[0;34m\u001b[0m\u001b[0m\n\u001b[1;32m   2100\u001b[0m                     \u001b[0;32mexcept\u001b[0m \u001b[0mException\u001b[0m\u001b[0;34m:\u001b[0m\u001b[0;34m\u001b[0m\u001b[0;34m\u001b[0m\u001b[0m\n\u001b[0;32m-> 2101\u001b[0;31m                         stb = self.InteractiveTB.structured_traceback(etype,\n\u001b[0m\u001b[1;32m   2102\u001b[0m                                             value, tb, tb_offset=tb_offset)\n\u001b[1;32m   2103\u001b[0m \u001b[0;34m\u001b[0m\u001b[0m\n",
            "\u001b[0;32m/usr/local/lib/python3.11/dist-packages/IPython/core/ultratb.py\u001b[0m in \u001b[0;36mstructured_traceback\u001b[0;34m(self, etype, value, tb, tb_offset, number_of_lines_of_context)\u001b[0m\n\u001b[1;32m   1365\u001b[0m         \u001b[0;32melse\u001b[0m\u001b[0;34m:\u001b[0m\u001b[0;34m\u001b[0m\u001b[0;34m\u001b[0m\u001b[0m\n\u001b[1;32m   1366\u001b[0m             \u001b[0mself\u001b[0m\u001b[0;34m.\u001b[0m\u001b[0mtb\u001b[0m \u001b[0;34m=\u001b[0m \u001b[0mtb\u001b[0m\u001b[0;34m\u001b[0m\u001b[0;34m\u001b[0m\u001b[0m\n\u001b[0;32m-> 1367\u001b[0;31m         return FormattedTB.structured_traceback(\n\u001b[0m\u001b[1;32m   1368\u001b[0m             self, etype, value, tb, tb_offset, number_of_lines_of_context)\n\u001b[1;32m   1369\u001b[0m \u001b[0;34m\u001b[0m\u001b[0m\n",
            "\u001b[0;32m/usr/local/lib/python3.11/dist-packages/IPython/core/ultratb.py\u001b[0m in \u001b[0;36mstructured_traceback\u001b[0;34m(self, etype, value, tb, tb_offset, number_of_lines_of_context)\u001b[0m\n\u001b[1;32m   1265\u001b[0m         \u001b[0;32mif\u001b[0m \u001b[0mmode\u001b[0m \u001b[0;32min\u001b[0m \u001b[0mself\u001b[0m\u001b[0;34m.\u001b[0m\u001b[0mverbose_modes\u001b[0m\u001b[0;34m:\u001b[0m\u001b[0;34m\u001b[0m\u001b[0;34m\u001b[0m\u001b[0m\n\u001b[1;32m   1266\u001b[0m             \u001b[0;31m# Verbose modes need a full traceback\u001b[0m\u001b[0;34m\u001b[0m\u001b[0;34m\u001b[0m\u001b[0m\n\u001b[0;32m-> 1267\u001b[0;31m             return VerboseTB.structured_traceback(\n\u001b[0m\u001b[1;32m   1268\u001b[0m                 \u001b[0mself\u001b[0m\u001b[0;34m,\u001b[0m \u001b[0metype\u001b[0m\u001b[0;34m,\u001b[0m \u001b[0mvalue\u001b[0m\u001b[0;34m,\u001b[0m \u001b[0mtb\u001b[0m\u001b[0;34m,\u001b[0m \u001b[0mtb_offset\u001b[0m\u001b[0;34m,\u001b[0m \u001b[0mnumber_of_lines_of_context\u001b[0m\u001b[0;34m\u001b[0m\u001b[0;34m\u001b[0m\u001b[0m\n\u001b[1;32m   1269\u001b[0m             )\n",
            "\u001b[0;32m/usr/local/lib/python3.11/dist-packages/IPython/core/ultratb.py\u001b[0m in \u001b[0;36mstructured_traceback\u001b[0;34m(self, etype, evalue, etb, tb_offset, number_of_lines_of_context)\u001b[0m\n\u001b[1;32m   1122\u001b[0m         \u001b[0;34m\"\"\"Return a nice text document describing the traceback.\"\"\"\u001b[0m\u001b[0;34m\u001b[0m\u001b[0;34m\u001b[0m\u001b[0m\n\u001b[1;32m   1123\u001b[0m \u001b[0;34m\u001b[0m\u001b[0m\n\u001b[0;32m-> 1124\u001b[0;31m         formatted_exception = self.format_exception_as_a_whole(etype, evalue, etb, number_of_lines_of_context,\n\u001b[0m\u001b[1;32m   1125\u001b[0m                                                                tb_offset)\n\u001b[1;32m   1126\u001b[0m \u001b[0;34m\u001b[0m\u001b[0m\n",
            "\u001b[0;32m/usr/local/lib/python3.11/dist-packages/IPython/core/ultratb.py\u001b[0m in \u001b[0;36mformat_exception_as_a_whole\u001b[0;34m(self, etype, evalue, etb, number_of_lines_of_context, tb_offset)\u001b[0m\n\u001b[1;32m   1080\u001b[0m \u001b[0;34m\u001b[0m\u001b[0m\n\u001b[1;32m   1081\u001b[0m \u001b[0;34m\u001b[0m\u001b[0m\n\u001b[0;32m-> 1082\u001b[0;31m         \u001b[0mlast_unique\u001b[0m\u001b[0;34m,\u001b[0m \u001b[0mrecursion_repeat\u001b[0m \u001b[0;34m=\u001b[0m \u001b[0mfind_recursion\u001b[0m\u001b[0;34m(\u001b[0m\u001b[0morig_etype\u001b[0m\u001b[0;34m,\u001b[0m \u001b[0mevalue\u001b[0m\u001b[0;34m,\u001b[0m \u001b[0mrecords\u001b[0m\u001b[0;34m)\u001b[0m\u001b[0;34m\u001b[0m\u001b[0;34m\u001b[0m\u001b[0m\n\u001b[0m\u001b[1;32m   1083\u001b[0m \u001b[0;34m\u001b[0m\u001b[0m\n\u001b[1;32m   1084\u001b[0m         \u001b[0mframes\u001b[0m \u001b[0;34m=\u001b[0m \u001b[0mself\u001b[0m\u001b[0;34m.\u001b[0m\u001b[0mformat_records\u001b[0m\u001b[0;34m(\u001b[0m\u001b[0mrecords\u001b[0m\u001b[0;34m,\u001b[0m \u001b[0mlast_unique\u001b[0m\u001b[0;34m,\u001b[0m \u001b[0mrecursion_repeat\u001b[0m\u001b[0;34m)\u001b[0m\u001b[0;34m\u001b[0m\u001b[0;34m\u001b[0m\u001b[0m\n",
            "\u001b[0;32m/usr/local/lib/python3.11/dist-packages/IPython/core/ultratb.py\u001b[0m in \u001b[0;36mfind_recursion\u001b[0;34m(etype, value, records)\u001b[0m\n\u001b[1;32m    380\u001b[0m     \u001b[0;31m# first frame (from in to out) that looks different.\u001b[0m\u001b[0;34m\u001b[0m\u001b[0;34m\u001b[0m\u001b[0m\n\u001b[1;32m    381\u001b[0m     \u001b[0;32mif\u001b[0m \u001b[0;32mnot\u001b[0m \u001b[0mis_recursion_error\u001b[0m\u001b[0;34m(\u001b[0m\u001b[0metype\u001b[0m\u001b[0;34m,\u001b[0m \u001b[0mvalue\u001b[0m\u001b[0;34m,\u001b[0m \u001b[0mrecords\u001b[0m\u001b[0;34m)\u001b[0m\u001b[0;34m:\u001b[0m\u001b[0;34m\u001b[0m\u001b[0;34m\u001b[0m\u001b[0m\n\u001b[0;32m--> 382\u001b[0;31m         \u001b[0;32mreturn\u001b[0m \u001b[0mlen\u001b[0m\u001b[0;34m(\u001b[0m\u001b[0mrecords\u001b[0m\u001b[0;34m)\u001b[0m\u001b[0;34m,\u001b[0m \u001b[0;36m0\u001b[0m\u001b[0;34m\u001b[0m\u001b[0;34m\u001b[0m\u001b[0m\n\u001b[0m\u001b[1;32m    383\u001b[0m \u001b[0;34m\u001b[0m\u001b[0m\n\u001b[1;32m    384\u001b[0m     \u001b[0;31m# Select filename, lineno, func_name to track frames with\u001b[0m\u001b[0;34m\u001b[0m\u001b[0;34m\u001b[0m\u001b[0m\n",
            "\u001b[0;31mTypeError\u001b[0m: object of type 'NoneType' has no len()"
          ]
        }
      ],
      "source": [
        "monitor.stop()\n",
        "control_system.join()\n",
        "lights_gpio.join()\n",
        "self_diagnostics.join()\n",
        "city_system_connector.join()\n",
        "monitor.join()"
      ]
    },
    {
      "cell_type": "markdown",
      "metadata": {
        "datalore": {
          "hide_input_from_viewers": false,
          "hide_output_from_viewers": false,
          "node_id": "x6HCBafkZhFxKMVYJNoi7w",
          "report_properties": {
            "y": 213
          },
          "type": "MD"
        },
        "id": "XXHkoHQ34-pZ"
      },
      "source": [
        "## Заключение\n",
        "\n",
        "В этом блокноте продемонстрирован базовый функционал контролируемого изменения режима работы светофора.\n",
        "\n",
        "В примере не реализованы некоторые сущности и большая часть логики работы светофора, которую можно предположить по архитектурной диаграмме. Попробуйте сделать это самостоятельно!"
      ]
    },
    {
      "cell_type": "markdown",
      "metadata": {
        "datalore": {
          "hide_input_from_viewers": false,
          "hide_output_from_viewers": false,
          "node_id": "juTrOfcuxSpilSgNwmg3q3",
          "report_properties": {
            "y": 220
          },
          "type": "MD"
        },
        "id": "RSq7_4NA4-pZ"
      },
      "source": [
        "## Упражнения\n",
        "\n",
        "Уровень \"Новичок\"\n",
        "\n",
        "- в коде ControlSystem измените режим на недопустимый (два зелёных) и выполните все ячейки. Убедитесь, что монитор безопасности заблокировал сообщение, как нарушающее политику безопасности\n",
        "- измените политики безопасности так, чтобы был возможен режим \"моргающий жёлтый\" (yellow_blinking), переводящий перекрёсток в режим нерегулируемого\n",
        "\n",
        "Уровень \"Средней сложности\"\n",
        "\n",
        "- добавьте политики безопасности для доп. секций со стрелками (поворот налево или направо)\n",
        "- измените код сущностей, чтобы они не завершали работу после одного сообщения, а работали произвольное время (см. реализацию монитора безопасности)\n",
        "- реализуйте сущность само-диагностики (SelfDiagnostics) и отправку сообщений от LightsGPIO (необходимо доработать политики безопасности!)\n",
        "\n",
        "Уровень \"Продвинутый\"\n",
        "\n",
        "- измените код сущности ControlSystem, реализуйте смену режимов по таймеру (заданную длительность зелёного по каждому направлению)\n",
        "- реализуйте сущность CitySystemConnector, которая будет имитировать получение изменения режима, реализуйте взаимодействие CitySystemConnector и ControlSystem (понадобится доработать политики безопасности). Например, изменение длительности зелёного по направлениям или отключение светофора (перевод перекрёстка в режим нерегулируемого)\n",
        "- реализуйте передачу в компонент CitySystemConnector информации об исправности светофора (статус самодиагностики; текущий режим работы). В компоненте реализуйте вывод в виде сообщений о состоянии системы"
      ]
    },
    {
      "cell_type": "markdown",
      "metadata": {
        "id": "dRCLec-n4-pZ"
      },
      "source": []
    }
  ],
  "metadata": {
    "datalore": {
      "base_environment": "default",
      "computation_mode": "JUPYTER",
      "package_manager": "pip",
      "packages": [],
      "version": 1
    },
    "kernelspec": {
      "display_name": "basic-demo-MX9QBRoe",
      "language": "python",
      "name": "python3"
    },
    "language_info": {
      "codemirror_mode": {
        "name": "ipython",
        "version": 3
      },
      "file_extension": ".py",
      "mimetype": "text/x-python",
      "name": "python",
      "nbconvert_exporter": "python",
      "pygments_lexer": "ipython3",
      "version": "3.8.10"
    },
    "colab": {
      "provenance": [],
      "include_colab_link": true
    }
  },
  "nbformat": 4,
  "nbformat_minor": 0
}